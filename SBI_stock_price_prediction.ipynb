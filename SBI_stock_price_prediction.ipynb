{
 "cells": [
  {
   "cell_type": "code",
   "execution_count": 61,
   "id": "20e02c71",
   "metadata": {},
   "outputs": [],
   "source": [
    "import math\n",
    "import pandas as pd\n",
    "import numpy as np\n",
    "import matplotlib.pyplot as plt\n",
    "%matplotlib inline\n",
    "from sklearn.preprocessing import MinMaxScaler\n",
    "from keras.models import Sequential\n",
    "from keras.layers import Dense,LSTM\n"
   ]
  },
  {
   "cell_type": "code",
   "execution_count": 62,
   "id": "3efb2a74",
   "metadata": {},
   "outputs": [],
   "source": [
    "df=pd.read_csv('SBIN.NS (1).csv',index_col='Date',parse_dates=True)"
   ]
  },
  {
   "cell_type": "code",
   "execution_count": 63,
   "id": "cd66f1df",
   "metadata": {},
   "outputs": [
    {
     "data": {
      "text/plain": [
       "(1232, 6)"
      ]
     },
     "execution_count": 63,
     "metadata": {},
     "output_type": "execute_result"
    }
   ],
   "source": [
    "df.shape"
   ]
  },
  {
   "cell_type": "code",
   "execution_count": 64,
   "id": "59a0617b",
   "metadata": {},
   "outputs": [
    {
     "data": {
      "text/html": [
       "<div>\n",
       "<style scoped>\n",
       "    .dataframe tbody tr th:only-of-type {\n",
       "        vertical-align: middle;\n",
       "    }\n",
       "\n",
       "    .dataframe tbody tr th {\n",
       "        vertical-align: top;\n",
       "    }\n",
       "\n",
       "    .dataframe thead th {\n",
       "        text-align: right;\n",
       "    }\n",
       "</style>\n",
       "<table border=\"1\" class=\"dataframe\">\n",
       "  <thead>\n",
       "    <tr style=\"text-align: right;\">\n",
       "      <th></th>\n",
       "      <th>Open</th>\n",
       "      <th>High</th>\n",
       "      <th>Low</th>\n",
       "      <th>Close</th>\n",
       "      <th>Adj Close</th>\n",
       "      <th>Volume</th>\n",
       "    </tr>\n",
       "    <tr>\n",
       "      <th>Date</th>\n",
       "      <th></th>\n",
       "      <th></th>\n",
       "      <th></th>\n",
       "      <th></th>\n",
       "      <th></th>\n",
       "      <th></th>\n",
       "    </tr>\n",
       "  </thead>\n",
       "  <tbody>\n",
       "    <tr>\n",
       "      <th>2016-01-05</th>\n",
       "      <td>222.800003</td>\n",
       "      <td>222.800003</td>\n",
       "      <td>217.000000</td>\n",
       "      <td>217.750000</td>\n",
       "      <td>211.052200</td>\n",
       "      <td>15074848</td>\n",
       "    </tr>\n",
       "    <tr>\n",
       "      <th>2016-01-06</th>\n",
       "      <td>217.899994</td>\n",
       "      <td>219.899994</td>\n",
       "      <td>216.399994</td>\n",
       "      <td>216.850006</td>\n",
       "      <td>210.179871</td>\n",
       "      <td>11921123</td>\n",
       "    </tr>\n",
       "    <tr>\n",
       "      <th>2016-01-07</th>\n",
       "      <td>214.000000</td>\n",
       "      <td>214.100006</td>\n",
       "      <td>209.000000</td>\n",
       "      <td>209.550003</td>\n",
       "      <td>203.104416</td>\n",
       "      <td>14342279</td>\n",
       "    </tr>\n",
       "    <tr>\n",
       "      <th>2016-01-08</th>\n",
       "      <td>212.000000</td>\n",
       "      <td>212.500000</td>\n",
       "      <td>208.600006</td>\n",
       "      <td>208.949997</td>\n",
       "      <td>202.522873</td>\n",
       "      <td>11745840</td>\n",
       "    </tr>\n",
       "    <tr>\n",
       "      <th>2016-01-11</th>\n",
       "      <td>206.800003</td>\n",
       "      <td>207.500000</td>\n",
       "      <td>202.649994</td>\n",
       "      <td>204.300003</td>\n",
       "      <td>198.015900</td>\n",
       "      <td>19287860</td>\n",
       "    </tr>\n",
       "  </tbody>\n",
       "</table>\n",
       "</div>"
      ],
      "text/plain": [
       "                  Open        High         Low       Close   Adj Close  \\\n",
       "Date                                                                     \n",
       "2016-01-05  222.800003  222.800003  217.000000  217.750000  211.052200   \n",
       "2016-01-06  217.899994  219.899994  216.399994  216.850006  210.179871   \n",
       "2016-01-07  214.000000  214.100006  209.000000  209.550003  203.104416   \n",
       "2016-01-08  212.000000  212.500000  208.600006  208.949997  202.522873   \n",
       "2016-01-11  206.800003  207.500000  202.649994  204.300003  198.015900   \n",
       "\n",
       "              Volume  \n",
       "Date                  \n",
       "2016-01-05  15074848  \n",
       "2016-01-06  11921123  \n",
       "2016-01-07  14342279  \n",
       "2016-01-08  11745840  \n",
       "2016-01-11  19287860  "
      ]
     },
     "execution_count": 64,
     "metadata": {},
     "output_type": "execute_result"
    }
   ],
   "source": [
    "df.head()"
   ]
  },
  {
   "cell_type": "code",
   "execution_count": 65,
   "id": "866f7774",
   "metadata": {},
   "outputs": [
    {
     "data": {
      "text/html": [
       "<div>\n",
       "<style scoped>\n",
       "    .dataframe tbody tr th:only-of-type {\n",
       "        vertical-align: middle;\n",
       "    }\n",
       "\n",
       "    .dataframe tbody tr th {\n",
       "        vertical-align: top;\n",
       "    }\n",
       "\n",
       "    .dataframe thead th {\n",
       "        text-align: right;\n",
       "    }\n",
       "</style>\n",
       "<table border=\"1\" class=\"dataframe\">\n",
       "  <thead>\n",
       "    <tr style=\"text-align: right;\">\n",
       "      <th></th>\n",
       "      <th>Open</th>\n",
       "      <th>High</th>\n",
       "      <th>Low</th>\n",
       "      <th>Close</th>\n",
       "      <th>Adj Close</th>\n",
       "      <th>Volume</th>\n",
       "    </tr>\n",
       "    <tr>\n",
       "      <th>Date</th>\n",
       "      <th></th>\n",
       "      <th></th>\n",
       "      <th></th>\n",
       "      <th></th>\n",
       "      <th></th>\n",
       "      <th></th>\n",
       "    </tr>\n",
       "  </thead>\n",
       "  <tbody>\n",
       "    <tr>\n",
       "      <th>2020-12-29</th>\n",
       "      <td>276.299988</td>\n",
       "      <td>279.899994</td>\n",
       "      <td>274.700012</td>\n",
       "      <td>277.899994</td>\n",
       "      <td>275.357758</td>\n",
       "      <td>45032526</td>\n",
       "    </tr>\n",
       "    <tr>\n",
       "      <th>2020-12-30</th>\n",
       "      <td>278.000000</td>\n",
       "      <td>278.700012</td>\n",
       "      <td>272.500000</td>\n",
       "      <td>276.899994</td>\n",
       "      <td>274.366882</td>\n",
       "      <td>30971894</td>\n",
       "    </tr>\n",
       "    <tr>\n",
       "      <th>2020-12-31</th>\n",
       "      <td>275.000000</td>\n",
       "      <td>277.250000</td>\n",
       "      <td>272.600006</td>\n",
       "      <td>274.950012</td>\n",
       "      <td>272.434753</td>\n",
       "      <td>29467966</td>\n",
       "    </tr>\n",
       "    <tr>\n",
       "      <th>2021-01-01</th>\n",
       "      <td>274.899994</td>\n",
       "      <td>280.000000</td>\n",
       "      <td>274.399994</td>\n",
       "      <td>279.399994</td>\n",
       "      <td>276.844025</td>\n",
       "      <td>24531791</td>\n",
       "    </tr>\n",
       "    <tr>\n",
       "      <th>2021-01-04</th>\n",
       "      <td>281.850006</td>\n",
       "      <td>283.899994</td>\n",
       "      <td>277.750000</td>\n",
       "      <td>281.049988</td>\n",
       "      <td>278.478912</td>\n",
       "      <td>31450608</td>\n",
       "    </tr>\n",
       "  </tbody>\n",
       "</table>\n",
       "</div>"
      ],
      "text/plain": [
       "                  Open        High         Low       Close   Adj Close  \\\n",
       "Date                                                                     \n",
       "2020-12-29  276.299988  279.899994  274.700012  277.899994  275.357758   \n",
       "2020-12-30  278.000000  278.700012  272.500000  276.899994  274.366882   \n",
       "2020-12-31  275.000000  277.250000  272.600006  274.950012  272.434753   \n",
       "2021-01-01  274.899994  280.000000  274.399994  279.399994  276.844025   \n",
       "2021-01-04  281.850006  283.899994  277.750000  281.049988  278.478912   \n",
       "\n",
       "              Volume  \n",
       "Date                  \n",
       "2020-12-29  45032526  \n",
       "2020-12-30  30971894  \n",
       "2020-12-31  29467966  \n",
       "2021-01-01  24531791  \n",
       "2021-01-04  31450608  "
      ]
     },
     "execution_count": 65,
     "metadata": {},
     "output_type": "execute_result"
    }
   ],
   "source": [
    "df.tail()"
   ]
  },
  {
   "cell_type": "code",
   "execution_count": 66,
   "id": "ce81547c",
   "metadata": {},
   "outputs": [
    {
     "data": {
      "image/png": "[encoded data removed]",
      "text/plain": [
       "<Figure size 1008x432 with 1 Axes>"
      ]
     },
     "metadata": {
      "needs_background": "light"
     },
     "output_type": "display_data"
    }
   ],
   "source": [
    "plt.figure(figsize=(14,6))\n",
    "plt.title('Close Price History')\n",
    "plt.plot(df['Close'],color='green')\n",
    "plt.xlabel('Date',fontsize=14)\n",
    "plt.ylabel('Closing Price in (Rs)',fontsize=14)\n",
    "plt.show()"
   ]
  },
  {
   "cell_type": "code",
   "execution_count": 67,
   "id": "a090a4a9",
   "metadata": {},
   "outputs": [
    {
     "data": {
      "text/plain": [
       "986"
      ]
     },
     "execution_count": 67,
     "metadata": {},
     "output_type": "execute_result"
    }
   ],
   "source": [
    "data =df.filter(['Close']) \n",
    "dataset=data.values    \n",
    "training_data_len=math.ceil(len(dataset) * .8) \n",
    "training_data_len"
   ]
  },
  {
   "cell_type": "code",
   "execution_count": 68,
   "id": "4205686d",
   "metadata": {},
   "outputs": [
    {
     "data": {
      "text/plain": [
       "array([[0.30196343],\n",
       "       [0.29790117],\n",
       "       [0.26495148],\n",
       "       ...,\n",
       "       [0.56014449],\n",
       "       [0.58023017],\n",
       "       [0.58767768]])"
      ]
     },
     "execution_count": 68,
     "metadata": {},
     "output_type": "execute_result"
    }
   ],
   "source": [
    "scaler= MinMaxScaler(feature_range=(0,1)) \n",
    "scaled_data=scaler.fit_transform(dataset)\n",
    "scaled_data"
   ]
  },
  {
   "cell_type": "code",
   "execution_count": 69,
   "id": "1833bba0",
   "metadata": {},
   "outputs": [
    {
     "name": "stdout",
     "output_type": "stream",
     "text": [
      "[array([0.30196343, 0.29790117, 0.26495148, 0.26224326, 0.2412548 ,\n",
      "       0.21913785, 0.22590833, 0.20401715, 0.15098171, 0.13608664,\n",
      "       0.14488825, 0.10291126, 0.11171294, 0.15233582, 0.14488825,\n",
      "       0.15143304, 0.15526967, 0.1311216 , 0.098849  , 0.08372823,\n",
      "       0.06860753, 0.05416385, 0.07831186, 0.09614078, 0.07312118,\n",
      "       0.03678625, 0.0153464 , 0.01782892, 0.07673212, 0.02505073,\n",
      "       0.03656056, 0.04039719, 0.06251407, 0.06364248, 0.03452943,\n",
      "       0.0245994 , 0.00428796, 0.0227939 , 0.03565784, 0.05055291,\n",
      "       0.13676366, 0.14398554, 0.16948766, 0.14669376, 0.14691939,\n",
      "       0.13382982, 0.13202438, 0.13947188, 0.15549537, 0.15504398,\n",
      "       0.16023472, 0.1823516 , 0.20740239, 0.21056193, 0.20649967,\n",
      "       0.16903633, 0.1744527 , 0.21078763, 0.19589256, 0.20221165])]\n",
      "[0.1979236893481573]\n",
      "\n",
      "[array([0.30196343, 0.29790117, 0.26495148, 0.26224326, 0.2412548 ,\n",
      "       0.21913785, 0.22590833, 0.20401715, 0.15098171, 0.13608664,\n",
      "       0.14488825, 0.10291126, 0.11171294, 0.15233582, 0.14488825,\n",
      "       0.15143304, 0.15526967, 0.1311216 , 0.098849  , 0.08372823,\n",
      "       0.06860753, 0.05416385, 0.07831186, 0.09614078, 0.07312118,\n",
      "       0.03678625, 0.0153464 , 0.01782892, 0.07673212, 0.02505073,\n",
      "       0.03656056, 0.04039719, 0.06251407, 0.06364248, 0.03452943,\n",
      "       0.0245994 , 0.00428796, 0.0227939 , 0.03565784, 0.05055291,\n",
      "       0.13676366, 0.14398554, 0.16948766, 0.14669376, 0.14691939,\n",
      "       0.13382982, 0.13202438, 0.13947188, 0.15549537, 0.15504398,\n",
      "       0.16023472, 0.1823516 , 0.20740239, 0.21056193, 0.20649967,\n",
      "       0.16903633, 0.1744527 , 0.21078763, 0.19589256, 0.20221165]), array([0.29790117, 0.26495148, 0.26224326, 0.2412548 , 0.21913785,\n",
      "       0.22590833, 0.20401715, 0.15098171, 0.13608664, 0.14488825,\n",
      "       0.10291126, 0.11171294, 0.15233582, 0.14488825, 0.15143304,\n",
      "       0.15526967, 0.1311216 , 0.098849  , 0.08372823, 0.06860753,\n",
      "       0.05416385, 0.07831186, 0.09614078, 0.07312118, 0.03678625,\n",
      "       0.0153464 , 0.01782892, 0.07673212, 0.02505073, 0.03656056,\n",
      "       0.04039719, 0.06251407, 0.06364248, 0.03452943, 0.0245994 ,\n",
      "       0.00428796, 0.0227939 , 0.03565784, 0.05055291, 0.13676366,\n",
      "       0.14398554, 0.16948766, 0.14669376, 0.14691939, 0.13382982,\n",
      "       0.13202438, 0.13947188, 0.15549537, 0.15504398, 0.16023472,\n",
      "       0.1823516 , 0.20740239, 0.21056193, 0.20649967, 0.16903633,\n",
      "       0.1744527 , 0.21078763, 0.19589256, 0.20221165, 0.19792369])]\n",
      "[0.1979236893481573, 0.15120741058221132]\n",
      "\n"
     ]
    }
   ],
   "source": [
    "train_data=scaled_data[0:training_data_len, :]\n",
    "x_train=[] \n",
    "y_train=[]   \n",
    "for i in range(60,len(train_data)):\n",
    "    x_train.append(train_data[i-60:i,0])\n",
    "    y_train.append(train_data[i,0])\n",
    "    if i<=61:\n",
    "        print(x_train)\n",
    "        print(y_train)\n",
    "        print()"
   ]
  },
  {
   "cell_type": "code",
   "execution_count": 70,
   "id": "7e95c801",
   "metadata": {},
   "outputs": [],
   "source": [
    "x_train,y_train=np.array(x_train),np.array(y_train)"
   ]
  },
  {
   "cell_type": "code",
   "execution_count": 71,
   "id": "c639e2ad",
   "metadata": {},
   "outputs": [
    {
     "data": {
      "text/plain": [
       "(926, 60)"
      ]
     },
     "execution_count": 71,
     "metadata": {},
     "output_type": "execute_result"
    }
   ],
   "source": [
    "x_train.shape"
   ]
  },
  {
   "cell_type": "code",
   "execution_count": 72,
   "id": "bf705bfe",
   "metadata": {},
   "outputs": [
    {
     "data": {
      "text/plain": [
       "(926, 60, 1)"
      ]
     },
     "execution_count": 72,
     "metadata": {},
     "output_type": "execute_result"
    }
   ],
   "source": [
    "x_train=np.reshape(x_train,(x_train.shape[0],x_train.shape[1],1))\n",
    "x_train.shape"
   ]
  },
  {
   "cell_type": "code",
   "execution_count": 73,
   "id": "f5b6df3f",
   "metadata": {},
   "outputs": [],
   "source": [
    "model =Sequential()\n",
    "model.add(LSTM(50,return_sequences=True,input_shape=(x_train.shape[1],1))) \n",
    "model.add(LSTM(50,return_sequences=False))\n",
    "model.add(Dense(25))\n",
    "model.add(Dense(1))"
   ]
  },
  {
   "cell_type": "code",
   "execution_count": 74,
   "id": "312bb51e",
   "metadata": {},
   "outputs": [],
   "source": [
    "model.compile(optimizer='adam',loss='mean_squared_error')"
   ]
  },
  {
   "cell_type": "code",
   "execution_count": 75,
   "id": "d8ac6bc7",
   "metadata": {},
   "outputs": [
    {
     "name": "stdout",
     "output_type": "stream",
     "text": [
      "926/926 [==============================] - 18s 18ms/step - loss: 0.0061\n"
     ]
    },
    {
     "data": {
      "text/plain": [
       "<keras.callbacks.History at 0x7f76d81e7f70>"
      ]
     },
     "execution_count": 75,
     "metadata": {},
     "output_type": "execute_result"
    }
   ],
   "source": [
    "model.fit(x_train,y_train,batch_size=1,epochs=1,verbose=1)"
   ]
  },
  {
   "cell_type": "code",
   "execution_count": 76,
   "id": "b92aae8d",
   "metadata": {},
   "outputs": [],
   "source": [
    "test_data= scaled_data[training_data_len-60:,:]\n",
    "x_test=[]\n",
    "y_test=dataset[training_data_len:,:]\n",
    "for i in range(60,len(test_data)):\n",
    "    x_test.append(test_data[i-60:i,0])"
   ]
  },
  {
   "cell_type": "code",
   "execution_count": 77,
   "id": "d848c4d5",
   "metadata": {},
   "outputs": [],
   "source": [
    "x_test=np.array(x_test)"
   ]
  },
  {
   "cell_type": "code",
   "execution_count": 78,
   "id": "a98ea215",
   "metadata": {},
   "outputs": [],
   "source": [
    "x_test=np.reshape(x_test,(x_test.shape[0],x_test.shape[1],1))"
   ]
  },
  {
   "cell_type": "code",
   "execution_count": 79,
   "id": "a8431238",
   "metadata": {},
   "outputs": [],
   "source": [
    "predictions=model.predict(x_test)\n",
    "predictions=scaler.inverse_transform(predictions)"
   ]
  },
  {
   "cell_type": "code",
   "execution_count": 80,
   "id": "39dd818f",
   "metadata": {},
   "outputs": [
    {
     "data": {
      "text/plain": [
       "6.1200917614448365"
      ]
     },
     "execution_count": 80,
     "metadata": {},
     "output_type": "execute_result"
    }
   ],
   "source": [
    "rsme=np.sqrt(np.mean(predictions-y_test)**2)\n",
    "rsme"
   ]
  },
  {
   "cell_type": "code",
   "execution_count": 81,
   "id": "62003ec8",
   "metadata": {},
   "outputs": [
    {
     "name": "stderr",
     "output_type": "stream",
     "text": [
      "<ipython-input-81-f34d7fd7cd02>:3: SettingWithCopyWarning: \n",
      "A value is trying to be set on a copy of a slice from a DataFrame.\n",
      "Try using .loc[row_indexer,col_indexer] = value instead\n",
      "\n",
      "See the caveats in the documentation: https://pandas.pydata.org/pandas-docs/stable/user_guide/indexing.html#returning-a-view-versus-a-copy\n",
      "  valid['Predictions']=predictions\n"
     ]
    },
    {
     "data": {
      "image/png": "[encoded data removed]",
      "text/plain": [
       "<Figure size 1152x576 with 1 Axes>"
      ]
     },
     "metadata": {
      "needs_background": "light"
     },
     "output_type": "display_data"
    }
   ],
   "source": [
    "train=data[:training_data_len]\n",
    "valid=data[training_data_len:]\n",
    "valid['Predictions']=predictions\n",
    "plt.figure(figsize=(16,8))\n",
    "plt.plot(train['Close'])\n",
    "plt.plot(valid[['Close','Predictions']])\n",
    "plt.legend(['Train','val','predictions'],loc='lower right')\n",
    "plt.show()"
   ]
  },
  {
   "cell_type": "code",
   "execution_count": 82,
   "id": "8a3aafc9",
   "metadata": {},
   "outputs": [
    {
     "data": {
      "text/html": [
       "<div>\n",
       "<style scoped>\n",
       "    .dataframe tbody tr th:only-of-type {\n",
       "        vertical-align: middle;\n",
       "    }\n",
       "\n",
       "    .dataframe tbody tr th {\n",
       "        vertical-align: top;\n",
       "    }\n",
       "\n",
       "    .dataframe thead th {\n",
       "        text-align: right;\n",
       "    }\n",
       "</style>\n",
       "<table border=\"1\" class=\"dataframe\">\n",
       "  <thead>\n",
       "    <tr style=\"text-align: right;\">\n",
       "      <th></th>\n",
       "      <th>Close</th>\n",
       "      <th>Predictions</th>\n",
       "    </tr>\n",
       "    <tr>\n",
       "      <th>Date</th>\n",
       "      <th></th>\n",
       "      <th></th>\n",
       "    </tr>\n",
       "  </thead>\n",
       "  <tbody>\n",
       "    <tr>\n",
       "      <th>2020-01-09</th>\n",
       "      <td>330.200012</td>\n",
       "      <td>330.709686</td>\n",
       "    </tr>\n",
       "    <tr>\n",
       "      <th>2020-01-10</th>\n",
       "      <td>332.250000</td>\n",
       "      <td>329.540741</td>\n",
       "    </tr>\n",
       "    <tr>\n",
       "      <th>2020-01-13</th>\n",
       "      <td>330.750000</td>\n",
       "      <td>329.552612</td>\n",
       "    </tr>\n",
       "    <tr>\n",
       "      <th>2020-01-14</th>\n",
       "      <td>328.000000</td>\n",
       "      <td>330.016479</td>\n",
       "    </tr>\n",
       "    <tr>\n",
       "      <th>2020-01-15</th>\n",
       "      <td>324.250000</td>\n",
       "      <td>330.351196</td>\n",
       "    </tr>\n",
       "    <tr>\n",
       "      <th>...</th>\n",
       "      <td>...</td>\n",
       "      <td>...</td>\n",
       "    </tr>\n",
       "    <tr>\n",
       "      <th>2020-12-29</th>\n",
       "      <td>277.899994</td>\n",
       "      <td>269.014893</td>\n",
       "    </tr>\n",
       "    <tr>\n",
       "      <th>2020-12-30</th>\n",
       "      <td>276.899994</td>\n",
       "      <td>270.920685</td>\n",
       "    </tr>\n",
       "    <tr>\n",
       "      <th>2020-12-31</th>\n",
       "      <td>274.950012</td>\n",
       "      <td>273.093292</td>\n",
       "    </tr>\n",
       "    <tr>\n",
       "      <th>2021-01-01</th>\n",
       "      <td>279.399994</td>\n",
       "      <td>274.950562</td>\n",
       "    </tr>\n",
       "    <tr>\n",
       "      <th>2021-01-04</th>\n",
       "      <td>281.049988</td>\n",
       "      <td>276.964844</td>\n",
       "    </tr>\n",
       "  </tbody>\n",
       "</table>\n",
       "<p>246 rows × 2 columns</p>\n",
       "</div>"
      ],
      "text/plain": [
       "                 Close  Predictions\n",
       "Date                               \n",
       "2020-01-09  330.200012   330.709686\n",
       "2020-01-10  332.250000   329.540741\n",
       "2020-01-13  330.750000   329.552612\n",
       "2020-01-14  328.000000   330.016479\n",
       "2020-01-15  324.250000   330.351196\n",
       "...                ...          ...\n",
       "2020-12-29  277.899994   269.014893\n",
       "2020-12-30  276.899994   270.920685\n",
       "2020-12-31  274.950012   273.093292\n",
       "2021-01-01  279.399994   274.950562\n",
       "2021-01-04  281.049988   276.964844\n",
       "\n",
       "[246 rows x 2 columns]"
      ]
     },
     "execution_count": 82,
     "metadata": {},
     "output_type": "execute_result"
    }
   ],
   "source": [
    "valid"
   ]
  },
  {
   "cell_type": "code",
   "execution_count": 83,
   "id": "21d0634b",
   "metadata": {},
   "outputs": [
    {
     "name": "stdout",
     "output_type": "stream",
     "text": [
      "[[279.00998]]\n"
     ]
    }
   ],
   "source": [
    "ndf=df.filter(['Close'])\n",
    "last_60_days=ndf[-60:].values\n",
    "last_60_scaled=scaler.transform(last_60_days)\n",
    "X_test=[]\n",
    "X_test.append(last_60_scaled)\n",
    "X_test=np.array(X_test)\n",
    "X_test=np.reshape(X_test,(X_test.shape[0],X_test.shape[1],1))\n",
    "pred_price=model.predict(X_test)\n",
    "pred_price=scaler.inverse_transform(pred_price)\n",
    "print(pred_price)"
   ]
  },
  {
   "cell_type": "code",
   "execution_count": null,
   "id": "6f37021e",
   "metadata": {},
   "outputs": [],
   "source": [
    "#279.0098 predicted price \n",
    "#281 actual price "
   ]
  }
 ],
 "metadata": {
  "kernelspec": {
   "display_name": "Python 3",
   "language": "python",
   "name": "python3"
  },
  "language_info": {
   "codemirror_mode": {
    "name": "ipython",
    "version": 3
   },
   "file_extension": ".py",
   "mimetype": "text/x-python",
   "name": "python",
   "nbconvert_exporter": "python",
   "pygments_lexer": "ipython3",
   "version": "3.8.8"
  }
 },
 "nbformat": 4,
 "nbformat_minor": 5
}
